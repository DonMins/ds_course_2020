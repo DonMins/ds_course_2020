{
  "cells": [
    {
      "cell_type": "markdown",
      "source": [
        "# Заготовка для ЛР8 (Классификация текстов с помощью TfIdf + LogisticRegression)\n",
        "\n",
        "Подставьте Ваш датасет и выполните все пункты задания.\n",
        "\n",
        "Полезные статьи про мешок слов / TfIdf:\n",
        "\n",
        "* https://habr.com/ru/company/oleg-bunin/blog/352614/\n",
        "* https://www.machinelearningmastery.ru/gentle-introduction-bag-words-model/\n",
        "* https://lambda-it.ru/post/klasterizatsiia-teksta-s-pomoshchiu-k-means-i-tf-i\n",
        "* http://zabaykin.ru/?p=558\n",
        "* http://nlpx.net/archives/57\n",
        "* http://datareview.info/article/klassifikatsiya-tekstov-s-pomoshhyu-meshka-slov-rukovodstvo/\n",
        "* http://lab314.brsu.by/kmp-lite/kmp2/JOB/CModel/BoW-Q.htm\n",
        "* https://habr.com/ru/post/264339/\n",
        "https://www.coursera.org/lecture/data-analysis-applications/izvliechieniie-priznakov-iz-tieksta-MjVkY"
      ],
      "metadata": {
        "nteract": {
          "transient": {
            "deleting": false
          }
        }
      }
    },
    {
      "cell_type": "code",
      "source": [
        "import pandas as pd\n",
        "import numpy as np\n",
        "import sklearn\n",
        "\n",
        "from nltk.stem.snowball import RussianStemmer\n",
        "\n",
        "pd.options.display.max_columns = 50"
      ],
      "outputs": [],
      "execution_count": 16,
      "metadata": {
        "collapsed": true,
        "execution": {
          "iopub.status.busy": "2020-03-19T08:49:01.795Z",
          "iopub.execute_input": "2020-03-19T08:49:01.799Z",
          "iopub.status.idle": "2020-03-19T08:49:01.805Z",
          "shell.execute_reply": "2020-03-19T08:49:01.809Z"
        }
      }
    },
    {
      "cell_type": "code",
      "source": [
        "# Хак для \n",
        "import ssl\n",
        "ssl._create_default_https_context = ssl._create_unverified_context"
      ],
      "outputs": [],
      "execution_count": 4,
      "metadata": {
        "collapsed": false,
        "jupyter": {
          "source_hidden": false,
          "outputs_hidden": false
        },
        "nteract": {
          "transient": {
            "deleting": false
          }
        },
        "execution": {
          "iopub.status.busy": "2020-03-19T08:19:53.785Z",
          "iopub.execute_input": "2020-03-19T08:19:53.788Z",
          "iopub.status.idle": "2020-03-19T08:19:53.794Z",
          "shell.execute_reply": "2020-03-19T08:19:53.798Z"
        }
      }
    },
    {
      "cell_type": "code",
      "source": [
        "# read dataset\n",
        "\n",
        "df = pd.read_csv('https://raw.githubusercontent.com/Yorko/mlcourse.ai/master/data/billdoard_dataset.csv')\n",
        "print( df.shape )\n",
        "df.head( 2 )"
      ],
      "outputs": [
        {
          "output_type": "stream",
          "name": "stdout",
          "text": [
            "(3879, 6)\n"
          ]
        },
        {
          "output_type": "execute_result",
          "execution_count": 5,
          "data": {
            "text/plain": [
              "                                         description  identificator  \\\n",
              "0  Маечка небольшая ласковая девочка. Красивая и ...      101330173   \n",
              "1  Зося – милая, совсем простая собака. Не может ...      101766363   \n",
              "\n",
              "   num_counts      price        start_date  \\\n",
              "0        2066  Неуказана  24 сентября 2012   \n",
              "1         810  Неуказана  26 сентября 2012   \n",
              "\n",
              "                                               title  \n",
              "0  Удивительный метис лайки Маечка ищет семью (в ...  \n",
              "1  Зося-просто скромная собака, верная подруга. В...  "
            ],
            "text/html": [
              "<div>\n",
              "<style scoped>\n",
              "    .dataframe tbody tr th:only-of-type {\n",
              "        vertical-align: middle;\n",
              "    }\n",
              "\n",
              "    .dataframe tbody tr th {\n",
              "        vertical-align: top;\n",
              "    }\n",
              "\n",
              "    .dataframe thead th {\n",
              "        text-align: right;\n",
              "    }\n",
              "</style>\n",
              "<table border=\"1\" class=\"dataframe\">\n",
              "  <thead>\n",
              "    <tr style=\"text-align: right;\">\n",
              "      <th></th>\n",
              "      <th>description</th>\n",
              "      <th>identificator</th>\n",
              "      <th>num_counts</th>\n",
              "      <th>price</th>\n",
              "      <th>start_date</th>\n",
              "      <th>title</th>\n",
              "    </tr>\n",
              "  </thead>\n",
              "  <tbody>\n",
              "    <tr>\n",
              "      <th>0</th>\n",
              "      <td>Маечка небольшая ласковая девочка. Красивая и ...</td>\n",
              "      <td>101330173</td>\n",
              "      <td>2066</td>\n",
              "      <td>Неуказана</td>\n",
              "      <td>24 сентября 2012</td>\n",
              "      <td>Удивительный метис лайки Маечка ищет семью (в ...</td>\n",
              "    </tr>\n",
              "    <tr>\n",
              "      <th>1</th>\n",
              "      <td>Зося – милая, совсем простая собака. Не может ...</td>\n",
              "      <td>101766363</td>\n",
              "      <td>810</td>\n",
              "      <td>Неуказана</td>\n",
              "      <td>26 сентября 2012</td>\n",
              "      <td>Зося-просто скромная собака, верная подруга. В...</td>\n",
              "    </tr>\n",
              "  </tbody>\n",
              "</table>\n",
              "</div>"
            ]
          },
          "metadata": {}
        }
      ],
      "execution_count": 5,
      "metadata": {
        "collapsed": false,
        "outputHidden": false,
        "inputHidden": false,
        "execution": {
          "iopub.status.busy": "2020-03-19T08:33:02.089Z",
          "iopub.execute_input": "2020-03-19T08:33:02.095Z",
          "iopub.status.idle": "2020-03-19T08:33:04.133Z",
          "shell.execute_reply": "2020-03-19T08:33:04.159Z"
        }
      }
    },
    {
      "cell_type": "code",
      "source": [
        "# Вариант с PyStemmer (модуль может не устанавливаться)\n",
        "\n",
        "stemobject = Stemmer.Stemmer('russian')\n",
        "stem_function = stemobject.stemWord\n",
        "\n",
        "def stemmer(x):\n",
        "    out = [stem_function(word) for word in x.split(' ')]\n",
        "    return ' '.join(out)"
      ],
      "outputs": [],
      "execution_count": null,
      "metadata": {
        "collapsed": false,
        "jupyter": {
          "source_hidden": false,
          "outputs_hidden": false
        },
        "nteract": {
          "transient": {
            "deleting": false
          }
        }
      }
    },
    {
      "cell_type": "code",
      "source": [
        "# Вариант с nltk.stem.snowball.RussianStemmer\n",
        "\n",
        "stemobject = RussianStemmer()\n",
        "def stemmer(x):\n",
        "    out = [stemobject.stem( word ) for word in x.split(' ')]\n",
        "    return ' '.join(out)"
      ],
      "outputs": [],
      "execution_count": 33,
      "metadata": {
        "collapsed": false,
        "jupyter": {
          "source_hidden": false,
          "outputs_hidden": false
        },
        "nteract": {
          "transient": {
            "deleting": false
          }
        },
        "execution": {
          "iopub.status.busy": "2020-03-19T08:51:57.322Z",
          "iopub.execute_input": "2020-03-19T08:51:57.325Z",
          "iopub.status.idle": "2020-03-19T08:51:57.330Z",
          "shell.execute_reply": "2020-03-19T08:51:57.332Z"
        }
      }
    },
    {
      "cell_type": "code",
      "source": [
        "df['description'] = df['description'].apply(stemmer)"
      ],
      "outputs": [],
      "execution_count": 34,
      "metadata": {
        "collapsed": false,
        "outputHidden": false,
        "inputHidden": false,
        "execution": {
          "iopub.status.busy": "2020-03-19T08:51:59.117Z",
          "iopub.execute_input": "2020-03-19T08:51:59.148Z",
          "iopub.status.idle": "2020-03-19T08:52:14.885Z",
          "shell.execute_reply": "2020-03-19T08:52:14.890Z"
        }
      }
    },
    {
      "cell_type": "code",
      "source": [
        "from stop_words import get_stop_words\n",
        "ruen_stopwords = get_stop_words('ru') + get_stop_words('en')\n",
        "\n",
        "import sklearn.feature_extraction.text\n",
        "\n",
        "tfidf_vectorizer = sklearn.feature_extraction.text.TfidfVectorizer(\n",
        "    max_df = 0.8,\n",
        "    max_features = 5000,\n",
        "    min_df = 0.002,\n",
        "    stop_words = ruen_stopwords + ['http'],\n",
        "    use_idf = True,\n",
        "    token_pattern = '[a-zA-Zа-яА-Я_]{2,}',\n",
        "    ngram_range = (1,3)\n",
        ")\n",
        "\n",
        "%time tfidf_matrix = tfidf_vectorizer.fit_transform( df['description'] )\n",
        "tfidf_matrix.shape"
      ],
      "outputs": [
        {
          "output_type": "stream",
          "name": "stderr",
          "text": [
            "/Library/Frameworks/Python.framework/Versions/3.7/lib/python3.7/site-packages/sklearn/feature_extraction/text.py:301: UserWarning: Your stop_words may be inconsistent with your preprocessing. Tokenizing the stop words generated tokens ['aren', 'can', 'couldn', 'didn', 'doesn', 'don', 'hadn', 'hasn', 'haven', 'isn', 'let', 'll', 'mustn', 're', 'shan', 'shouldn', 've', 'wasn', 'weren', 'won', 'wouldn', 'вс', 'ещ', 'мо', 'тво'] not in stop_words.\n",
            "  'stop_words.' % sorted(inconsistent))\n"
          ]
        },
        {
          "output_type": "stream",
          "name": "stdout",
          "text": [
            "CPU times: user 1.37 s, sys: 76.8 ms, total: 1.45 s\n",
            "Wall time: 1.49 s\n"
          ]
        },
        {
          "output_type": "execute_result",
          "execution_count": 35,
          "data": {
            "text/plain": [
              "(3879, 5000)"
            ]
          },
          "metadata": {}
        }
      ],
      "execution_count": 35,
      "metadata": {
        "collapsed": false,
        "outputHidden": false,
        "inputHidden": false,
        "execution": {
          "iopub.status.busy": "2020-03-19T08:52:35.383Z",
          "iopub.execute_input": "2020-03-19T08:52:35.387Z",
          "iopub.status.idle": "2020-03-19T08:52:36.885Z",
          "shell.execute_reply": "2020-03-19T08:52:36.899Z"
        }
      }
    },
    {
      "cell_type": "code",
      "source": [
        "type(tfidf_matrix)  "
      ],
      "outputs": [
        {
          "output_type": "execute_result",
          "execution_count": 36,
          "data": {
            "text/plain": [
              "scipy.sparse.csr.csr_matrix"
            ]
          },
          "metadata": {}
        }
      ],
      "execution_count": 36,
      "metadata": {
        "collapsed": false,
        "outputHidden": false,
        "inputHidden": false,
        "execution": {
          "iopub.status.busy": "2020-03-19T08:52:39.866Z",
          "iopub.execute_input": "2020-03-19T08:52:39.869Z",
          "iopub.status.idle": "2020-03-19T08:52:39.877Z",
          "shell.execute_reply": "2020-03-19T08:52:39.880Z"
        }
      }
    },
    {
      "cell_type": "code",
      "source": [
        "#tfidf_matrix[0]"
      ],
      "outputs": [],
      "execution_count": 38,
      "metadata": {
        "collapsed": false,
        "outputHidden": false,
        "inputHidden": false,
        "execution": {
          "iopub.status.busy": "2020-03-19T08:52:49.494Z",
          "iopub.execute_input": "2020-03-19T08:52:49.498Z",
          "iopub.status.idle": "2020-03-19T08:52:49.504Z",
          "shell.execute_reply": "2020-03-19T08:52:49.507Z"
        }
      }
    },
    {
      "cell_type": "code",
      "source": [
        "tfidf_vectorizer.get_feature_names()[1000:1010]"
      ],
      "outputs": [
        {
          "output_type": "execute_result",
          "execution_count": 41,
          "data": {
            "text/plain": [
              "['друзьями',\n",
              " 'дума',\n",
              " 'душ',\n",
              " 'душевн',\n",
              " 'души',\n",
              " 'душой',\n",
              " 'душу',\n",
              " 'европ',\n",
              " 'европейск',\n",
              " 'европы']"
            ]
          },
          "metadata": {}
        }
      ],
      "execution_count": 41,
      "metadata": {
        "collapsed": false,
        "outputHidden": false,
        "inputHidden": false,
        "execution": {
          "iopub.status.busy": "2020-03-19T08:53:04.857Z",
          "iopub.execute_input": "2020-03-19T08:53:04.860Z",
          "iopub.status.idle": "2020-03-19T08:53:04.866Z",
          "shell.execute_reply": "2020-03-19T08:53:04.879Z"
        }
      }
    },
    {
      "cell_type": "code",
      "source": [
        "X = tfidf_matrix # np.hstack( (tfidf_matrix.toarray(), df_addfldstr.as_matrix()) )\n",
        "y = ... #\n",
        "\n",
        "X_train, X_test, y_train, y_test = sklearn.model_selection.train_test_split(\n",
        "    X, y, test_size = 0.3, random_state = 0\n",
        ")\n",
        "\n",
        "X_train.shape"
      ],
      "outputs": [],
      "execution_count": null,
      "metadata": {
        "collapsed": false,
        "outputHidden": false,
        "inputHidden": false
      }
    },
    {
      "cell_type": "code",
      "source": [
        "clf = sklearn.linear_model.LogisticRegression()"
      ],
      "outputs": [],
      "execution_count": null,
      "metadata": {
        "collapsed": false,
        "outputHidden": false,
        "inputHidden": false
      }
    },
    {
      "cell_type": "code",
      "source": [
        "clf.fit( X_train, y_train )"
      ],
      "outputs": [],
      "execution_count": null,
      "metadata": {
        "collapsed": false,
        "outputHidden": false,
        "inputHidden": false
      }
    },
    {
      "cell_type": "code",
      "source": [
        "y_pred = clf.predict( X_test )\n",
        "#accuracy_score( y_test, y_pred )"
      ],
      "outputs": [],
      "execution_count": null,
      "metadata": {
        "collapsed": false,
        "outputHidden": false,
        "inputHidden": false
      }
    },
    {
      "cell_type": "code",
      "source": [],
      "outputs": [],
      "execution_count": null,
      "metadata": {
        "collapsed": false,
        "outputHidden": false,
        "inputHidden": false
      }
    }
  ],
  "metadata": {
    "kernelspec": {
      "name": "python3",
      "language": "python",
      "display_name": "Python 3"
    },
    "language_info": {
      "name": "python",
      "version": "3.7.2",
      "mimetype": "text/x-python",
      "codemirror_mode": {
        "name": "ipython",
        "version": 3
      },
      "pygments_lexer": "ipython3",
      "nbconvert_exporter": "python",
      "file_extension": ".py"
    },
    "kernel_info": {
      "name": "python3"
    },
    "nteract": {
      "version": "0.22.0"
    }
  },
  "nbformat": 4,
  "nbformat_minor": 1
}