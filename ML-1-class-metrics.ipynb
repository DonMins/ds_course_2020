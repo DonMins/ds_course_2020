{
  "cells": [
    {
      "cell_type": "markdown",
      "source": [
        "# Задачи классификации. Метрики качества\n",
        "\n",
        "Материалы:\n",
        "* книжка Гвидо, Мюллер: «Введение в машинное обучение»\n",
        "* [Открытый курс машинного обучения](https://habr.com/company/ods/blog/322534/)"
      ],
      "metadata": {}
    },
    {
      "cell_type": "markdown",
      "source": [
        "Датасет с параметрами сортов ирисов\n",
        "![iris-structure](https://docplayer.ru/docs-images/67/57767148/images/28-0.jpg)"
      ],
      "metadata": {}
    },
    {
      "cell_type": "code",
      "source": [
        "import numpy as np\n",
        "import pandas as pd\n",
        "import sklearn, sklearn.model_selection, sklearn.neighbors, sklearn.svm"
      ],
      "outputs": [],
      "execution_count": 53,
      "metadata": {
        "inputHidden": false,
        "outputHidden": false,
        "execution": {
          "iopub.status.busy": "2020-02-28T13:42:23.514Z",
          "iopub.execute_input": "2020-02-28T13:42:23.526Z",
          "iopub.status.idle": "2020-02-28T13:42:23.566Z",
          "shell.execute_reply": "2020-02-28T13:42:23.576Z"
        }
      }
    },
    {
      "cell_type": "code",
      "source": [
        "%pylab inline\n",
        "#import matplotlib.pyplot as plt\n",
        "import matplotlib.pylab as plt"
      ],
      "outputs": [
        {
          "output_type": "stream",
          "name": "stdout",
          "text": [
            "Populating the interactive namespace from numpy and matplotlib\n"
          ]
        }
      ],
      "execution_count": 55,
      "metadata": {
        "collapsed": false,
        "jupyter": {
          "source_hidden": false,
          "outputs_hidden": false
        },
        "nteract": {
          "transient": {
            "deleting": false
          }
        },
        "execution": {
          "iopub.status.busy": "2020-02-28T13:42:27.694Z",
          "iopub.execute_input": "2020-02-28T13:42:27.704Z",
          "iopub.status.idle": "2020-02-28T13:42:27.724Z",
          "shell.execute_reply": "2020-02-28T13:42:27.734Z"
        }
      }
    },
    {
      "cell_type": "code",
      "source": [
        "from sklearn.datasets import load_iris\n",
        "iris_dataset = load_iris()\n",
        "\n",
        "list( iris_dataset.keys() )"
      ],
      "outputs": [
        {
          "output_type": "execute_result",
          "execution_count": 39,
          "data": {
            "text/plain": [
              "['data', 'target', 'target_names', 'DESCR', 'feature_names', 'filename']"
            ]
          },
          "metadata": {}
        }
      ],
      "execution_count": 39,
      "metadata": {
        "inputHidden": false,
        "outputHidden": false,
        "execution": {
          "iopub.status.busy": "2020-02-28T13:37:37.175Z",
          "iopub.execute_input": "2020-02-28T13:37:37.185Z",
          "iopub.status.idle": "2020-02-28T13:37:37.206Z",
          "shell.execute_reply": "2020-02-28T13:37:37.216Z"
        }
      }
    },
    {
      "cell_type": "code",
      "source": [
        "# Значение ключа DESCR – это краткое описание набора данных\n",
        "print(iris_dataset['DESCR'])"
      ],
      "outputs": [
        {
          "output_type": "stream",
          "name": "stdout",
          "text": [
            ".. _iris_dataset:\n",
            "\n",
            "Iris plants dataset\n",
            "--------------------\n",
            "\n",
            "**Data Set Characteristics:**\n",
            "\n",
            "    :Number of Instances: 150 (50 in each of three classes)\n",
            "    :Number of Attributes: 4 numeric, predictive attributes and the class\n",
            "    :Attribute Information:\n",
            "        - sepal length in cm\n",
            "        - sepal width in cm\n",
            "        - petal length in cm\n",
            "        - petal width in cm\n",
            "        - class:\n",
            "                - Iris-Setosa\n",
            "                - Iris-Versicolour\n",
            "                - Iris-Virginica\n",
            "                \n",
            "    :Summary Statistics:\n",
            "\n",
            "    ============== ==== ==== ======= ===== ====================\n",
            "                    Min  Max   Mean    SD   Class Correlation\n",
            "    ============== ==== ==== ======= ===== ====================\n",
            "    sepal length:   4.3  7.9   5.84   0.83    0.7826\n",
            "    sepal width:    2.0  4.4   3.05   0.43   -0.4194\n",
            "    petal length:   1.0  6.9   3.76   1.76    0.9490  (high!)\n",
            "    petal width:    0.1  2.5   1.20   0.76    0.9565  (high!)\n",
            "    ============== ==== ==== ======= ===== ====================\n",
            "\n",
            "    :Missing Attribute Values: None\n",
            "    :Class Distribution: 33.3% for each of 3 classes.\n",
            "    :Creator: R.A. Fisher\n",
            "    :Donor: Michael Marshall (MARSHALL%PLU@io.arc.nasa.gov)\n",
            "    :Date: July, 1988\n",
            "\n",
            "The famous Iris database, first used by Sir R.A. Fisher. The dataset is taken\n",
            "from Fisher's paper. Note that it's the same as in R, but not as in the UCI\n",
            "Machine Learning Repository, which has two wrong data points.\n",
            "\n",
            "This is perhaps the best known database to be found in the\n",
            "pattern recognition literature.  Fisher's paper is a classic in the field and\n",
            "is referenced frequently to this day.  (See Duda & Hart, for example.)  The\n",
            "data set contains 3 classes of 50 instances each, where each class refers to a\n",
            "type of iris plant.  One class is linearly separable from the other 2; the\n",
            "latter are NOT linearly separable from each other.\n",
            "\n",
            ".. topic:: References\n",
            "\n",
            "   - Fisher, R.A. \"The use of multiple measurements in taxonomic problems\"\n",
            "     Annual Eugenics, 7, Part II, 179-188 (1936); also in \"Contributions to\n",
            "     Mathematical Statistics\" (John Wiley, NY, 1950).\n",
            "   - Duda, R.O., & Hart, P.E. (1973) Pattern Classification and Scene Analysis.\n",
            "     (Q327.D83) John Wiley & Sons.  ISBN 0-471-22361-1.  See page 218.\n",
            "   - Dasarathy, B.V. (1980) \"Nosing Around the Neighborhood: A New System\n",
            "     Structure and Classification Rule for Recognition in Partially Exposed\n",
            "     Environments\".  IEEE Transactions on Pattern Analysis and Machine\n",
            "     Intelligence, Vol. PAMI-2, No. 1, 67-71.\n",
            "   - Gates, G.W. (1972) \"The Reduced Nearest Neighbor Rule\".  IEEE Transactions\n",
            "     on Information Theory, May 1972, 431-433.\n",
            "   - See also: 1988 MLC Proceedings, 54-64.  Cheeseman et al\"s AUTOCLASS II\n",
            "     conceptual clustering system finds 3 classes in the data.\n",
            "   - Many, many more ...\n"
          ]
        }
      ],
      "execution_count": 6,
      "metadata": {
        "inputHidden": false,
        "outputHidden": false,
        "execution": {
          "iopub.status.busy": "2020-02-28T13:25:28.897Z",
          "iopub.execute_input": "2020-02-28T13:25:28.907Z",
          "iopub.status.idle": "2020-02-28T13:25:28.929Z",
          "shell.execute_reply": "2020-02-28T13:25:28.938Z"
        }
      }
    },
    {
      "cell_type": "code",
      "source": [
        "# Значение ключа target_names – массив меток классов (в данном случае сорта цветов)\n",
        "list( iris_dataset['target_names'] )"
      ],
      "outputs": [
        {
          "output_type": "execute_result",
          "execution_count": 7,
          "data": {
            "text/plain": [
              "['setosa', 'versicolor', 'virginica']"
            ]
          },
          "metadata": {}
        }
      ],
      "execution_count": 7,
      "metadata": {
        "inputHidden": false,
        "outputHidden": false,
        "execution": {
          "iopub.status.busy": "2020-02-28T13:25:32.845Z",
          "iopub.execute_input": "2020-02-28T13:25:32.854Z",
          "iopub.status.idle": "2020-02-28T13:25:32.875Z",
          "shell.execute_reply": "2020-02-28T13:25:32.884Z"
        }
      }
    },
    {
      "cell_type": "code",
      "source": [
        "# Список названий полей-признаков\n",
        "list( iris_dataset['feature_names'] )"
      ],
      "outputs": [
        {
          "output_type": "execute_result",
          "execution_count": 8,
          "data": {
            "text/plain": [
              "['sepal length (cm)',\n",
              " 'sepal width (cm)',\n",
              " 'petal length (cm)',\n",
              " 'petal width (cm)']"
            ]
          },
          "metadata": {}
        }
      ],
      "execution_count": 8,
      "metadata": {
        "inputHidden": false,
        "outputHidden": false,
        "execution": {
          "iopub.status.busy": "2020-02-28T13:25:33.533Z",
          "iopub.execute_input": "2020-02-28T13:25:33.542Z",
          "iopub.status.idle": "2020-02-28T13:25:33.561Z",
          "shell.execute_reply": "2020-02-28T13:25:33.570Z"
        }
      }
    },
    {
      "cell_type": "code",
      "source": [
        "# Сами признаки записаны в numpy-массиве data\n",
        "type(iris_dataset['data']), iris_dataset['data'].shape"
      ],
      "outputs": [
        {
          "output_type": "execute_result",
          "execution_count": 9,
          "data": {
            "text/plain": [
              "(numpy.ndarray, (150, 4))"
            ]
          },
          "metadata": {}
        }
      ],
      "execution_count": 9,
      "metadata": {
        "inputHidden": false,
        "outputHidden": false,
        "execution": {
          "iopub.status.busy": "2020-02-28T13:25:34.416Z",
          "iopub.execute_input": "2020-02-28T13:25:34.425Z",
          "iopub.status.idle": "2020-02-28T13:25:34.445Z",
          "shell.execute_reply": "2020-02-28T13:25:34.454Z"
        }
      }
    },
    {
      "cell_type": "code",
      "source": [
        "# Первые пять строк массива data\n",
        "iris_dataset['data'][:5]"
      ],
      "outputs": [
        {
          "output_type": "execute_result",
          "execution_count": 10,
          "data": {
            "text/plain": [
              "array([[5.1, 3.5, 1.4, 0.2],\n",
              "       [4.9, 3. , 1.4, 0.2],\n",
              "       [4.7, 3.2, 1.3, 0.2],\n",
              "       [4.6, 3.1, 1.5, 0.2],\n",
              "       [5. , 3.6, 1.4, 0.2]])"
            ]
          },
          "metadata": {}
        }
      ],
      "execution_count": 10,
      "metadata": {
        "inputHidden": false,
        "outputHidden": false,
        "execution": {
          "iopub.status.busy": "2020-02-28T13:25:35.096Z",
          "iopub.execute_input": "2020-02-28T13:25:35.105Z",
          "iopub.status.idle": "2020-02-28T13:25:35.125Z",
          "shell.execute_reply": "2020-02-28T13:25:35.135Z"
        }
      }
    },
    {
      "cell_type": "code",
      "source": [
        "# \"Ответы\" записаны в target\n",
        "type(iris_dataset['target']), iris_dataset['target'].shape"
      ],
      "outputs": [
        {
          "output_type": "execute_result",
          "execution_count": 11,
          "data": {
            "text/plain": [
              "(numpy.ndarray, (150,))"
            ]
          },
          "metadata": {}
        }
      ],
      "execution_count": 11,
      "metadata": {
        "inputHidden": false,
        "outputHidden": false,
        "execution": {
          "iopub.status.busy": "2020-02-28T13:25:36.878Z",
          "iopub.execute_input": "2020-02-28T13:25:36.889Z",
          "iopub.status.idle": "2020-02-28T13:25:36.909Z",
          "shell.execute_reply": "2020-02-28T13:25:36.919Z"
        }
      }
    },
    {
      "cell_type": "code",
      "source": [
        "iris_dataset['target']\n",
        "# Значения чисел задаются массивом target_names: 0 – setosa, 1 – versicolor, а 2 – virginica."
      ],
      "outputs": [
        {
          "output_type": "execute_result",
          "execution_count": 12,
          "data": {
            "text/plain": [
              "array([0, 0, 0, 0, 0, 0, 0, 0, 0, 0, 0, 0, 0, 0, 0, 0, 0, 0, 0, 0, 0, 0,\n",
              "       0, 0, 0, 0, 0, 0, 0, 0, 0, 0, 0, 0, 0, 0, 0, 0, 0, 0, 0, 0, 0, 0,\n",
              "       0, 0, 0, 0, 0, 0, 1, 1, 1, 1, 1, 1, 1, 1, 1, 1, 1, 1, 1, 1, 1, 1,\n",
              "       1, 1, 1, 1, 1, 1, 1, 1, 1, 1, 1, 1, 1, 1, 1, 1, 1, 1, 1, 1, 1, 1,\n",
              "       1, 1, 1, 1, 1, 1, 1, 1, 1, 1, 1, 1, 2, 2, 2, 2, 2, 2, 2, 2, 2, 2,\n",
              "       2, 2, 2, 2, 2, 2, 2, 2, 2, 2, 2, 2, 2, 2, 2, 2, 2, 2, 2, 2, 2, 2,\n",
              "       2, 2, 2, 2, 2, 2, 2, 2, 2, 2, 2, 2, 2, 2, 2, 2, 2, 2])"
            ]
          },
          "metadata": {}
        }
      ],
      "execution_count": 12,
      "metadata": {
        "inputHidden": false,
        "outputHidden": false,
        "execution": {
          "iopub.status.busy": "2020-02-28T13:25:37.459Z",
          "iopub.execute_input": "2020-02-28T13:25:37.468Z",
          "iopub.status.idle": "2020-02-28T13:25:37.489Z",
          "shell.execute_reply": "2020-02-28T13:25:37.498Z"
        }
      }
    },
    {
      "cell_type": "markdown",
      "source": [
        "## Метрики эффективности, обучающий и тестовый наборы\n",
        "\n",
        "Прежде, чем мы применять ML-модель в реальной жизни, мы должны убедиться в том, что модель на самом деле работает и ее прогнозам можно доверять.\n",
        "\n",
        "Разобьём весь датасет на две части. Одна часть данных используется для построения модели машинного обучения и называется обучающими *данными* (*training data*) или *обучающим набором* (*training set*). Остальные данные будут использованы для оценки качества модели, их называют *тестовыми данными* (*test data*), *тестовым набором* (*test set*) или *контрольным набором* (*hold-out set*).\n",
        "\n",
        "![train-test-set](http://www.dataminingapps.com/wp-content/uploads/2015/12/1-289x300.png)\n",
        "\n",
        "Обычно отбирают в обучающий набор 75% строк данных и оставшиеся 25% объявляются тестовым набором (либо 70% / 30%). \n",
        "\n",
        "В библиотеке `scikit-learn` есть функция `train_test_split`, которая перемешивает набор данных и разбивает его на две части."
      ],
      "metadata": {}
    },
    {
      "cell_type": "markdown",
      "source": [
        "В `sklearn` данные, как правило, обозначаются заглавной $ X $ (т.к. это двемерная матрица), тогда как метки обозначаются строчной $ у $ (т.к. это одномерный вектор).\n",
        "Это навеяно стандартной математической формулой $ f(х)=у $."
      ],
      "metadata": {}
    },
    {
      "cell_type": "code",
      "source": [
        "X_train, X_test, y_train, y_test = sklearn.model_selection.train_test_split(\n",
        "    iris_dataset['data'], iris_dataset['target'], random_state = 0\n",
        ")"
      ],
      "outputs": [],
      "execution_count": 15,
      "metadata": {
        "inputHidden": false,
        "outputHidden": false,
        "execution": {
          "iopub.status.busy": "2020-02-28T13:26:25.426Z",
          "iopub.execute_input": "2020-02-28T13:26:25.436Z",
          "iopub.status.idle": "2020-02-28T13:26:25.451Z",
          "shell.execute_reply": "2020-02-28T13:26:25.460Z"
        }
      }
    },
    {
      "cell_type": "code",
      "source": [
        "print(\"форма массива X_train: {}\".format(X_train.shape))\n",
        "print(\"форма массива y_train: {}\".format(y_train.shape))\n",
        "print(\"форма массива X_test: {}\".format(X_test.shape))\n",
        "print(\"форма массива y_test: {}\".format(y_test.shape))"
      ],
      "outputs": [
        {
          "output_type": "stream",
          "name": "stdout",
          "text": [
            "форма массива X_train: (112, 4)\n",
            "форма массива y_train: (112,)\n",
            "форма массива X_test: (38, 4)\n",
            "форма массива y_test: (38,)\n"
          ]
        }
      ],
      "execution_count": 16,
      "metadata": {
        "inputHidden": false,
        "outputHidden": false,
        "execution": {
          "iopub.status.busy": "2020-02-28T13:26:28.906Z",
          "iopub.execute_input": "2020-02-28T13:26:28.915Z",
          "iopub.status.idle": "2020-02-28T13:26:28.937Z",
          "shell.execute_reply": "2020-02-28T13:26:28.946Z"
        }
      }
    },
    {
      "cell_type": "code",
      "source": [
        "import pandas as pd\n",
        "# создаем dataframe из данных в массиве X_train\n",
        "# маркируем столбцы, используя строки в iris_dataset.feature_names\n",
        "iris_dataframe = pd.DataFrame( X_train, columns = iris_dataset.feature_names )\n",
        "# создаем матрицу рассеяния из dataframe, цвет точек задаем с помощью y_train\n",
        "%pylab inline\n",
        "g = pd.plotting.scatter_matrix(\n",
        "    iris_dataframe, c = y_train, figsize = (12, 12),\n",
        "    marker = 'o', hist_kwds = { 'bins' : 20 }, s = 60, alpha = .8\n",
        ")"
      ],
      "outputs": [
        {
          "output_type": "stream",
          "name": "stdout",
          "text": [
            "Populating the interactive namespace from numpy and matplotlib\n"
          ]
        },
        {
          "output_type": "display_data",
          "data": {
            "text/plain": [
              "<Figure size 864x864 with 16 Axes>"
            ],
            "image/png": "[encoded data removed]"
          },
          "metadata": {
            "needs_background": "light"
          }
        }
      ],
      "execution_count": 17,
      "metadata": {
        "inputHidden": false,
        "outputHidden": false,
        "execution": {
          "iopub.status.busy": "2020-02-28T13:26:42.865Z",
          "iopub.execute_input": "2020-02-28T13:26:42.877Z",
          "iopub.status.idle": "2020-02-28T13:26:44.401Z",
          "shell.execute_reply": "2020-02-28T13:26:44.438Z"
        }
      }
    },
    {
      "cell_type": "markdown",
      "source": [
        "## Классификатор kNN — \"метод k ближайших соседей\"\n",
        "\n",
        "Построение этой модели заключается лишь в запоминании обучающего набора. Для того, чтобы сделать прогноз для новой точки данных, алгоритм находит точку в обучающем наборе, которая находится ближе всего к новой точке.\n",
        "\n",
        "![knn-pic](http://res.cloudinary.com/dyd911kmh/image/upload/f_auto,q_auto:best/v1531424125/KNN_final1_ibdm8a.png)\n"
      ],
      "metadata": {}
    },
    {
      "cell_type": "markdown",
      "source": [
        "### Создание объекта алгоритма/модели-предсказателя\n",
        "\n",
        "В `sklearn` все модели машинного обучения реализованы в собственных классах, называемых классами Estimator. Алгоритм классификации на основе метода k ближайших соседей реализован в классификаторе `KNeighborsClassifier` модуля `sklearn.neighbors`. Прежде чем использовать эту модель, нам нужно создать объект-экземпляр класса, указав параметры модели. Самым важным параметром `KNeighborsClassifier` является количество соседей, которые мы установим равным 1."
      ],
      "metadata": {}
    },
    {
      "cell_type": "code",
      "source": [
        "from  import KNeighborsClassifier\n",
        "knn = KNeighborsClassifier( n_neighbors = 1 )"
      ],
      "outputs": [],
      "execution_count": 62,
      "metadata": {
        "inputHidden": false,
        "outputHidden": false
      }
    },
    {
      "cell_type": "code",
      "source": [
        "# мне больше нравится не засорять namespace:\n",
        "import sklearn.neighbors\n",
        "knn = sklearn.neighbors.KNeighborsClassifier( n_neighbors = 1 )\n",
        "knn"
      ],
      "outputs": [
        {
          "output_type": "execute_result",
          "execution_count": 16,
          "data": {
            "text/plain": [
              "KNeighborsClassifier(algorithm='auto', leaf_size=30, metric='minkowski',\n",
              "           metric_params=None, n_jobs=1, n_neighbors=1, p=2,\n",
              "           weights='uniform')"
            ]
          },
          "metadata": {}
        }
      ],
      "execution_count": 16,
      "metadata": {
        "inputHidden": false,
        "outputHidden": false
      }
    },
    {
      "cell_type": "markdown",
      "source": [
        "Объект `knn` (как и любой объект с ML-моделью в `sklearn`) включает в себя:\n",
        "* алгоритм, который будет использоваться для построения модели,\n",
        "* а также алгоритм, который сгенерирует прогнозы для новых точек данных\n",
        "* информацию, которую алгоритм извлек из обучающих данных (параметры модели);<br> в случае с KNeighborsClassifier он будет просто хранить обучающий набор."
      ],
      "metadata": {}
    },
    {
      "cell_type": "markdown",
      "source": [
        "#### Построение модели"
      ],
      "metadata": {}
    },
    {
      "cell_type": "code",
      "source": [
        "# Для построения модели на обучающем наборе, мы вызываем метод fit объекта knn\n",
        "knn.fit( X_train, y_train )\n",
        "# Метод fit возвращает сам объект knn (и изменяет его)"
      ],
      "outputs": [
        {
          "output_type": "execute_result",
          "execution_count": 17,
          "data": {
            "text/plain": [
              "KNeighborsClassifier(algorithm='auto', leaf_size=30, metric='minkowski',\n",
              "           metric_params=None, n_jobs=1, n_neighbors=1, p=2,\n",
              "           weights='uniform')"
            ]
          },
          "metadata": {}
        }
      ],
      "execution_count": 17,
      "metadata": {
        "inputHidden": false,
        "outputHidden": false
      }
    },
    {
      "cell_type": "markdown",
      "source": [
        "#### Получение прогнозов\n",
        "\n",
        "Теперь мы можем получить прогнозы, применив эту модель к новым данным, по которым мы еще не знаем правильные метки."
      ],
      "metadata": {}
    },
    {
      "cell_type": "code",
      "source": [
        "X_new = np.array( [ [5, 2.9, 1, 0.2] ])\n",
        "\n",
        "prediction = knn.predict( X_new )\n",
        "\n",
        "print( \"Прогноз:\", prediction )\n",
        "print( \"Спрогнозированная метка:\", iris_dataset['target_names'][prediction] )"
      ],
      "outputs": [
        {
          "output_type": "stream",
          "name": "stdout",
          "text": [
            "Прогноз: [0]\n",
            "Спрогнозированная метка: ['setosa']\n"
          ]
        }
      ],
      "execution_count": 18,
      "metadata": {
        "inputHidden": false,
        "outputHidden": false
      }
    },
    {
      "cell_type": "markdown",
      "source": [
        "####  Оценка качества модели\n",
        "\n",
        "Это тот самый момент, когда нам понадобится созданный ранее тестовый набор. Эти данные не использовались для построения модели, но мы знаем правильные сорта для каждого ириса в тестовом наборе."
      ],
      "metadata": {}
    },
    {
      "cell_type": "code",
      "source": [
        "y_pred = knn.predict( X_test )\n",
        "print(\"Прогнозы для тестового набора:\", y_pred, sep = '\\n')"
      ],
      "outputs": [
        {
          "output_type": "stream",
          "name": "stdout",
          "text": [
            "Прогнозы для тестового набора:\n",
            "[2 1 0 2 0 2 0 1 1 1 2 1 1 1 1 0 1 1 0 0 2 1 0 0 2 0 0 1 1 0 2 1 0 2 2 1 0\n",
            " 2]\n"
          ]
        }
      ],
      "execution_count": 19,
      "metadata": {
        "inputHidden": false,
        "outputHidden": false
      }
    },
    {
      "cell_type": "code",
      "source": [
        "print(\"Правильность на тестовом наборе: {:.2f}\".format( np.mean( y_pred == y_test )) )"
      ],
      "outputs": [
        {
          "output_type": "stream",
          "name": "stdout",
          "text": [
            "Правильность на тестовом наборе: 0.97\n"
          ]
        }
      ],
      "execution_count": 85,
      "metadata": {
        "inputHidden": false,
        "outputHidden": false
      }
    },
    {
      "cell_type": "code",
      "source": [
        "y_pred == y_test"
      ],
      "outputs": [
        {
          "output_type": "execute_result",
          "execution_count": 20,
          "data": {
            "text/plain": [
              "array([ True,  True,  True,  True,  True,  True,  True,  True,  True,\n",
              "        True,  True,  True,  True,  True,  True,  True,  True,  True,\n",
              "        True,  True,  True,  True,  True,  True,  True,  True,  True,\n",
              "        True,  True,  True,  True,  True,  True,  True,  True,  True,\n",
              "        True, False])"
            ]
          },
          "metadata": {}
        }
      ],
      "execution_count": 20,
      "metadata": {
        "inputHidden": false,
        "outputHidden": false
      }
    },
    {
      "cell_type": "code",
      "source": [
        "# Кроме того, мы можем использовать метод score объекта knn, который вычисляет правильность модели\n",
        "knn.score( X_test, y_test )"
      ],
      "outputs": [
        {
          "output_type": "execute_result",
          "execution_count": 21,
          "data": {
            "text/plain": [
              "0.9736842105263158"
            ]
          },
          "metadata": {}
        }
      ],
      "execution_count": 21,
      "metadata": {
        "inputHidden": false,
        "outputHidden": false
      }
    },
    {
      "cell_type": "code",
      "source": [
        "# пример вычисление метрик с использованием sklearn.metrics\n",
        "import sklearn.metrics\n",
        "\n",
        "cl1 = [0, 0, 1, 1, 0]\n",
        "cl2 = [1, 0, 1, 1, 1]\n",
        "\n",
        "sklearn.metrics.accuracy_score( cl1, cl2 )"
      ],
      "outputs": [
        {
          "output_type": "execute_result",
          "execution_count": 22,
          "data": {
            "text/plain": [
              "0.6"
            ]
          },
          "metadata": {}
        }
      ],
      "execution_count": 22,
      "metadata": {
        "inputHidden": false,
        "outputHidden": false
      }
    },
    {
      "cell_type": "code",
      "source": [
        "# рекомендуемый способ вычисления метрик\n",
        "sklearn.metrics.accuracy_score( y_pred, y_test )"
      ],
      "outputs": [
        {
          "output_type": "execute_result",
          "execution_count": 23,
          "data": {
            "text/plain": [
              "0.9736842105263158"
            ]
          },
          "metadata": {}
        }
      ],
      "execution_count": 23,
      "metadata": {
        "inputHidden": false,
        "outputHidden": false
      }
    },
    {
      "cell_type": "markdown",
      "source": [
        "### Обобщающая способность, переобучение и недообучение\n",
        "\n",
        "Построение модели, которая слишком сложна для имеющегося у нас объема информации, называется *переобучением* (*overfitting*). Переобучение происходит, когда ваша модель слишком точно подстраивается под особенности обучающего набора и вы получаете модель, которая хорошо работает на обучающем наборе, но не умеет обобщать результат на новые данные.\n",
        "\n",
        "Если модель слишком проста и из данных извлечена не вся доступная информация, модель будет плохо работать даже на обучающем наборе. Выбор слишком простой модели называется *недообучением* (*underfitting*)."
      ],
      "metadata": {}
    },
    {
      "cell_type": "markdown",
      "source": [
        "Переобученность / недообученность для классификации:\n",
        "\n",
        "![overfit-underfit-class-1](https://s3.amazonaws.com/geekbrains-uploads/geekbrains/public/ckeditor_assets/pictures/4334/content_1-wo81biq10n4jYYHPyWCKNg.png)\n",
        "\n",
        "![overfit-underfit-class-2](https://cdn-images-1.medium.com/max/1600/1*JZbxrdzabrT33Yl-LrmShw.png)"
      ],
      "metadata": {}
    },
    {
      "cell_type": "markdown",
      "source": [
        "Переобученность / недообученность для регрессии:\n",
        "\n",
        "![overfit-underfit-regression-1](http://scikit-learn.org/stable/_images/sphx_glr_plot_underfitting_overfitting_001.png)\n",
        "\n",
        "![overfit-underfit-regression-2](https://cdn-images-1.medium.com/max/1600/1*_7OPgojau8hkiPUiHoGK_w.png)\n"
      ],
      "metadata": {}
    },
    {
      "cell_type": "markdown",
      "source": [
        "Чем сложнее модель, тем лучше она будет работать на обучающих данных. Однако, если наша модель становится слишком сложной, мы начинаем уделять слишком много внимания каждой отдельной точке данных в нашем обучающем наборе, и эта модель не будет хорошо обобщать результат на новые данные.\n",
        "\n",
        "Существует оптимальная точка, которая позволяет получить наилучшую обобщающую способность. Собственно это и есть модель, которую нам нужно найти.\n",
        "Компромисс между переобучением и недообучением показан на рисунке.\n",
        "\n",
        "![fitting-accuracy](https://bitbucket.org/despairr/ds-course-2018/raw/dbbafa803be8b1f01cc078ba3ba96d176b220669/intro-to-ml-images/206.png)"
      ],
      "metadata": {}
    },
    {
      "cell_type": "markdown",
      "source": [
        "#### Взаимосвязь между сложностью модели и размером набора данных\n",
        "\n",
        "Чем больше семплов в вашем наборе, тем более сложную модель можно использовать, не беспокоясь о переобучении. Обычно больший объем данных дает большее разнообразие и позволяют строить более сложные модели."
      ],
      "metadata": {}
    },
    {
      "cell_type": "markdown",
      "source": [
        "#### kNN и переобучение / недообучение"
      ],
      "metadata": {}
    },
    {
      "cell_type": "markdown",
      "source": [
        "Набор данных forge:\n",
        "![forge-dataset](https://bitbucket.org/despairr/ds-course-2018/raw/443959e3b5e41168ceba4adcffbe1e9e9084f246/intro-to-ml-images/219.png)"
      ],
      "metadata": {
        "inputHidden": false,
        "outputHidden": false
      }
    },
    {
      "cell_type": "markdown",
      "source": [
        "knn_classification: n_neighbors = 1\n",
        "![knn_classification: n_neighbors = 1](https://bitbucket.org/despairr/ds-course-2018/raw/443959e3b5e41168ceba4adcffbe1e9e9084f246/intro-to-ml-images/238.png)"
      ],
      "metadata": {
        "inputHidden": false,
        "outputHidden": false
      }
    },
    {
      "cell_type": "markdown",
      "source": [
        "knn_classification: n_neighbors = 3\n",
        "![knn_classification: n_neighbors = 1](https://bitbucket.org/despairr/ds-course-2018/raw/443959e3b5e41168ceba4adcffbe1e9e9084f246/intro-to-ml-images/239.png)"
      ],
      "metadata": {
        "inputHidden": false,
        "outputHidden": false
      }
    },
    {
      "cell_type": "code",
      "source": [
        "import mglearn\n",
        "\n",
        "# генерируем набор данных\n",
        "X, y = mglearn.datasets.make_forge()\n",
        "\n",
        "# мы разделим наши данные на обучающий и тестовый наборы\n",
        "import sklearn.model_selection\n",
        "\n",
        "X_train, X_test, y_train, y_test = sklearn.model_selection.train_test_split( X, y, random_state = 0 )\n",
        "\n",
        "X.shape, X_train.shape, X_test.shape, y.shape, y_train.shape, y_test.shape"
      ],
      "outputs": [
        {
          "output_type": "execute_result",
          "execution_count": 24,
          "data": {
            "text/plain": [
              "((26, 2), (19, 2), (7, 2), (26,), (19,), (7,))"
            ]
          },
          "metadata": {}
        }
      ],
      "execution_count": 24,
      "metadata": {
        "inputHidden": false,
        "outputHidden": false
      }
    },
    {
      "cell_type": "code",
      "source": [
        "# создаём классификатор\n",
        "import sklearn.neighbors\n",
        "\n",
        "clf = sklearn.neighbors.KNeighborsClassifier( n_neighbors = 3 )\n",
        "clf"
      ],
      "outputs": [
        {
          "output_type": "execute_result",
          "execution_count": 25,
          "data": {
            "text/plain": [
              "KNeighborsClassifier(algorithm='auto', leaf_size=30, metric='minkowski',\n",
              "           metric_params=None, n_jobs=1, n_neighbors=3, p=2,\n",
              "           weights='uniform')"
            ]
          },
          "metadata": {}
        }
      ],
      "execution_count": 25,
      "metadata": {
        "inputHidden": false,
        "outputHidden": false
      }
    },
    {
      "cell_type": "code",
      "source": [
        "# подгоняем классификатор, используя обучающий набор\n",
        "clf.fit( X_train, y_train )"
      ],
      "outputs": [
        {
          "output_type": "execute_result",
          "execution_count": 26,
          "data": {
            "text/plain": [
              "KNeighborsClassifier(algorithm='auto', leaf_size=30, metric='minkowski',\n",
              "           metric_params=None, n_jobs=1, n_neighbors=3, p=2,\n",
              "           weights='uniform')"
            ]
          },
          "metadata": {}
        }
      ],
      "execution_count": 26,
      "metadata": {
        "inputHidden": false,
        "outputHidden": false
      }
    },
    {
      "cell_type": "code",
      "source": [
        "# Прогнозы на тестовом наборе\n",
        "y_pred = clf.predict( X_test )\n",
        "y_pred"
      ],
      "outputs": [
        {
          "output_type": "execute_result",
          "execution_count": 27,
          "data": {
            "text/plain": [
              "array([1, 0, 1, 0, 1, 0, 0])"
            ]
          },
          "metadata": {}
        }
      ],
      "execution_count": 27,
      "metadata": {
        "inputHidden": false,
        "outputHidden": false
      }
    },
    {
      "cell_type": "code",
      "source": [
        "# Правильность на тестовом наборе\n",
        "clf.score( X_test, y_test )"
      ],
      "outputs": [
        {
          "output_type": "execute_result",
          "execution_count": 28,
          "data": {
            "text/plain": [
              "0.8571428571428571"
            ]
          },
          "metadata": {}
        }
      ],
      "execution_count": 28,
      "metadata": {
        "inputHidden": false,
        "outputHidden": false
      }
    },
    {
      "cell_type": "markdown",
      "source": [
        "Границы принятия решений, созданные моделью kNN для различных n_neighbors:\n",
        "\n",
        "![knn_plot_2d_separator](https://bitbucket.org/despairr/ds-course-2018/raw/443959e3b5e41168ceba4adcffbe1e9e9084f246/intro-to-ml-images/244.png)"
      ],
      "metadata": {
        "inputHidden": false,
        "outputHidden": false
      }
    },
    {
      "cell_type": "markdown",
      "source": [
        "Использование небольшого числа соседей соответствует высокой сложности модели, а использование большого количества соседей соответствует низкой сложности модели."
      ],
      "metadata": {}
    },
    {
      "cell_type": "code",
      "source": [
        "import sklearn.datasets\n",
        "\n",
        "cancer = sklearn.datasets.load_breast_cancer()\n",
        "cancer['feature_names'], cancer['target_names']"
      ],
      "outputs": [
        {
          "output_type": "execute_result",
          "execution_count": 18,
          "data": {
            "text/plain": [
              "(array(['mean radius', 'mean texture', 'mean perimeter', 'mean area',\n",
              "        'mean smoothness', 'mean compactness', 'mean concavity',\n",
              "        'mean concave points', 'mean symmetry', 'mean fractal dimension',\n",
              "        'radius error', 'texture error', 'perimeter error', 'area error',\n",
              "        'smoothness error', 'compactness error', 'concavity error',\n",
              "        'concave points error', 'symmetry error',\n",
              "        'fractal dimension error', 'worst radius', 'worst texture',\n",
              "        'worst perimeter', 'worst area', 'worst smoothness',\n",
              "        'worst compactness', 'worst concavity', 'worst concave points',\n",
              "        'worst symmetry', 'worst fractal dimension'], dtype='<U23'),\n",
              " array(['malignant', 'benign'], dtype='<U9'))"
            ]
          },
          "metadata": {}
        }
      ],
      "execution_count": 18,
      "metadata": {
        "inputHidden": false,
        "outputHidden": false,
        "execution": {
          "iopub.status.busy": "2020-02-28T13:28:04.025Z",
          "iopub.execute_input": "2020-02-28T13:28:04.035Z",
          "iopub.status.idle": "2020-02-28T13:28:04.057Z",
          "shell.execute_reply": "2020-02-28T13:28:04.066Z"
        }
      }
    },
    {
      "cell_type": "code",
      "source": [
        "cancer.data.shape, cancer.data[0]"
      ],
      "outputs": [
        {
          "output_type": "execute_result",
          "execution_count": 19,
          "data": {
            "text/plain": [
              "((569, 30),\n",
              " array([1.799e+01, 1.038e+01, 1.228e+02, 1.001e+03, 1.184e-01, 2.776e-01,\n",
              "        3.001e-01, 1.471e-01, 2.419e-01, 7.871e-02, 1.095e+00, 9.053e-01,\n",
              "        8.589e+00, 1.534e+02, 6.399e-03, 4.904e-02, 5.373e-02, 1.587e-02,\n",
              "        3.003e-02, 6.193e-03, 2.538e+01, 1.733e+01, 1.846e+02, 2.019e+03,\n",
              "        1.622e-01, 6.656e-01, 7.119e-01, 2.654e-01, 4.601e-01, 1.189e-01]))"
            ]
          },
          "metadata": {}
        }
      ],
      "execution_count": 19,
      "metadata": {
        "inputHidden": false,
        "outputHidden": false,
        "execution": {
          "iopub.status.busy": "2020-02-28T13:28:07.191Z",
          "iopub.execute_input": "2020-02-28T13:28:07.201Z",
          "iopub.status.idle": "2020-02-28T13:28:07.221Z",
          "shell.execute_reply": "2020-02-28T13:28:07.231Z"
        }
      }
    },
    {
      "cell_type": "code",
      "source": [
        "# Построим график \"Правильности\" для разного числа соседей\n",
        "X_train, X_test, y_train, y_test = sklearn.model_selection.train_test_split(\n",
        "    cancer.data, cancer.target, stratify = cancer.target\n",
        ")\n",
        "\n",
        "training_accuracy = []\n",
        "test_accuracy = []\n",
        "# пробуем n_neighbors от 1 до 10\n",
        "neighbors_settings = range(1, 11)\n",
        "for n_neighbors in neighbors_settings:\n",
        "  # строим модель\n",
        "  clf = sklearn.neighbors.KNeighborsClassifier( n_neighbors = n_neighbors )\n",
        "  clf.fit( X_train, y_train )\n",
        "  # записываем правильность на обучающем наборе\n",
        "  training_accuracy.append( clf.score(X_train, y_train) )\n",
        "  # записываем правильность на тестовом наборе\n",
        "  test_accuracy.append( clf.score(X_test, y_test) )\n",
        "\n",
        "plt.plot( neighbors_settings, training_accuracy, label=\"правильность на обучающем наборе\" )\n",
        "plt.plot( neighbors_settings, test_accuracy, label=\"правильность на тестовом наборе\" )\n",
        "plt.ylabel(\"Правильность\")\n",
        "plt.xlabel(\"количество соседей\")\n",
        "g = plt.legend()"
      ],
      "outputs": [
        {
          "output_type": "display_data",
          "data": {
            "text/plain": [
              "<Figure size 432x288 with 1 Axes>"
            ],
            "image/png": "[encoded data removed]"
          },
          "metadata": {
            "needs_background": "light"
          }
        }
      ],
      "execution_count": 23,
      "metadata": {
        "inputHidden": false,
        "outputHidden": false,
        "scrolled": true,
        "execution": {
          "iopub.status.busy": "2020-02-28T13:29:02.887Z",
          "iopub.execute_input": "2020-02-28T13:29:02.897Z",
          "iopub.status.idle": "2020-02-28T13:29:03.225Z",
          "shell.execute_reply": "2020-02-28T13:29:03.253Z"
        }
      }
    },
    {
      "cell_type": "markdown",
      "source": [
        "## Кросс-валидация (перекрёстная проверка)\n",
        "\n",
        "*Перекрестная проверка* (*кросс-валидация*) представляет собой статистический метод оценки обобщающей способности, который является более устойчивым и точным, чем разбиение данных на обучающий и тестовый наборы. В перекрестной проверке данные разбиваются несколько раз и строится несколько моделей. Наиболее часто используемый вариант перекрестной проверки – *k-блочная кросс-валидация* (*k-fold cross-validation*), в которой k – это задаваемое пользователем число, как правило, 5 или 10.\n",
        "\n",
        "![crossval-1](https://bitbucket.org/despairr/ds-course-2018/raw/443959e3b5e41168ceba4adcffbe1e9e9084f246/intro-to-ml-images/927.png)\n",
        "\n",
        "В scikit-learn перекрестная проверка реализована с помощью функции `sklern.model_selection.cross_val_score`."
      ],
      "metadata": {}
    },
    {
      "cell_type": "code",
      "source": [
        "# создадим классификатор kNN (n=1)\n",
        "clf = sklearn.neighbors.KNeighborsClassifier( n_neighbors = 1 )\n",
        "\n",
        "# получим метрики на кросс-валидации на датасете с раком груди\n",
        "scores = sklearn.model_selection.cross_val_score( clf, cancer.data, cancer.target, cv = 3 )\n",
        "\n",
        "scores"
      ],
      "outputs": [
        {
          "output_type": "execute_result",
          "execution_count": 25,
          "data": {
            "text/plain": [
              "array([0.88421053, 0.92631579, 0.9047619 ])"
            ]
          },
          "metadata": {}
        }
      ],
      "execution_count": 25,
      "metadata": {
        "execution": {
          "iopub.status.busy": "2020-02-28T13:29:57.992Z",
          "iopub.execute_input": "2020-02-28T13:29:58.002Z",
          "iopub.status.idle": "2020-02-28T13:29:58.023Z",
          "shell.execute_reply": "2020-02-28T13:29:58.034Z"
        }
      }
    },
    {
      "cell_type": "code",
      "source": [
        "\"Средняя правильность перекрестной проверки: {:.2f}\".format(scores.mean())"
      ],
      "outputs": [
        {
          "output_type": "execute_result",
          "execution_count": 27,
          "data": {
            "text/plain": [
              "'Средняя правильность перекрестной проверки: 0.91'"
            ]
          },
          "metadata": {}
        }
      ],
      "execution_count": 27,
      "metadata": {
        "execution": {
          "iopub.status.busy": "2020-02-28T13:31:47.478Z",
          "iopub.execute_input": "2020-02-28T13:31:47.488Z",
          "iopub.status.idle": "2020-02-28T13:31:47.509Z",
          "shell.execute_reply": "2020-02-28T13:31:47.520Z"
        }
      }
    },
    {
      "cell_type": "code",
      "source": [
        "# создадим классификатор kNN (n=1)\n",
        "clf = sklearn.neighbors.KNeighborsClassifier( n_neighbors = 1 )\n",
        "\n",
        "# получим метрики на кросс-валидации на датасете с ирисами\n",
        "scores = sklearn.model_selection.cross_val_score( clf, iris_dataset['data'], iris_dataset['target'], cv = 5 )\n",
        "\n",
        "scores"
      ],
      "outputs": [
        {
          "output_type": "execute_result",
          "execution_count": 29,
          "data": {
            "text/plain": [
              "array([0.96666667, 0.96666667, 0.93333333, 0.93333333, 1.        ])"
            ]
          },
          "metadata": {}
        }
      ],
      "execution_count": 29,
      "metadata": {
        "execution": {
          "iopub.status.busy": "2020-02-28T13:32:48.970Z",
          "iopub.execute_input": "2020-02-28T13:32:48.980Z",
          "iopub.status.idle": "2020-02-28T13:32:49.000Z",
          "shell.execute_reply": "2020-02-28T13:32:49.010Z"
        }
      }
    },
    {
      "cell_type": "code",
      "source": [
        "print(\"Средняя правильность перекрестной проверки: {:.2f}\".format(scores.mean()))"
      ],
      "outputs": [
        {
          "output_type": "stream",
          "name": "stdout",
          "text": [
            "Средняя правильность перекрестной проверки: 0.96\n"
          ]
        }
      ],
      "execution_count": 31,
      "metadata": {
        "execution": {
          "iopub.status.busy": "2020-02-28T13:33:08.578Z",
          "iopub.execute_input": "2020-02-28T13:33:08.589Z",
          "iopub.status.idle": "2020-02-28T13:33:08.612Z",
          "shell.execute_reply": "2020-02-28T13:33:08.623Z"
        }
      }
    },
    {
      "cell_type": "markdown",
      "source": [
        "#### Преимущества кросс-валидации\n",
        "\n",
        "**Равномерное распределение примеров** (тяжёлые / лёгкие, сильно похожие / максимально не похожие):<br>\n",
        "Обычный train_test_split выполняет случайное разбиение данных. Представьте, нам «повезло», и все трудно классифицируемые примеры в конечном итоге попали в обучающий набор. В этом случае в тестовый набор попадут только «легкие» примеры, и правильность на тестовом наборе будет неправдоподобно высокой. И, наоборот, если нам «не повезло», все трудно классифицируемые примеры попадают в тестовый набор и поэтому мы получаем неправдоподобно низкую правильность. Однако при использовании перекрестной проверки на каждой итерации в тестовый набор, использующийся для проверки модели, попадают разные примеры. Таким образом, модель должна хорошо обобщать все примеры в наборе данных, чтобы все значения правильности (или их среднее) были высокими.\n",
        "\n",
        "**Чувствительность модели к разным данным**:<br>\n",
        "Кроме того, наличие нескольких разбиений дает определенную информацию о том, насколько наша модель чувствительна к выбору обучающего набора данных.\n",
        "\n",
        "**Используем данные более эффективно**:<br>\n",
        "Используем все 100% и для обучения и для теста."
      ],
      "metadata": {}
    },
    {
      "cell_type": "markdown",
      "source": [
        "### Стратифицированная k-блочная кросс-валидация\n",
        "\n",
        "![crossval-2](https://bitbucket.org/despairr/ds-course-2018/raw/443959e3b5e41168ceba4adcffbe1e9e9084f246/intro-to-ml-images/957.png)\n",
        "\n",
        "В стратифицированной перекрестной проверке мы разбиваем данные таким образом, чтобы пропорции классов в каждом блоке в точности соответствовали пропорциям классов в наборе данных.\n"
      ],
      "metadata": {}
    },
    {
      "cell_type": "code",
      "source": [
        "# создадим классификатор kNN (n=1)\n",
        "clf = sklearn.neighbors.KNeighborsClassifier( n_neighbors = 1 )\n",
        "\n",
        "# создадим объект для стратифицированной КВ с 5 фолдами\n",
        "cvgen = sklearn.model_selection.StratifiedKFold(5)\n",
        "\n",
        "# натравим кросс-валидацию на ирисы\n",
        "scores = sklearn.model_selection.cross_val_score(\n",
        "    clf, iris_dataset['data'], iris_dataset['target'], cv = cvgen\n",
        ")\n",
        "\n",
        "list(scores), scores.mean()"
      ],
      "outputs": [
        {
          "output_type": "execute_result",
          "execution_count": 35,
          "data": {
            "text/plain": [
              "([0.9666666666666667,\n",
              "  0.9666666666666667,\n",
              "  0.9333333333333333,\n",
              "  0.9333333333333333,\n",
              "  1.0],\n",
              " 0.96)"
            ]
          },
          "metadata": {}
        }
      ],
      "execution_count": 35,
      "metadata": {
        "execution": {
          "iopub.status.busy": "2020-02-28T13:35:20.433Z",
          "iopub.execute_input": "2020-02-28T13:35:20.443Z",
          "iopub.status.idle": "2020-02-28T13:35:20.464Z",
          "shell.execute_reply": "2020-02-28T13:35:20.474Z"
        }
      }
    },
    {
      "cell_type": "markdown",
      "source": [
        "### Кросс-валидация и кастомные метрики"
      ],
      "metadata": {}
    },
    {
      "cell_type": "code",
      "source": [
        "# Generate a random n-class classification problem.\n",
        "X, y = sklearn.datasets.make_classification( n_classes = 2, random_state = 0 )\n",
        "X.shape, y.shape"
      ],
      "outputs": [
        {
          "output_type": "execute_result",
          "execution_count": 36,
          "data": {
            "text/plain": [
              "((100, 20), (100,))"
            ]
          },
          "metadata": {}
        }
      ],
      "execution_count": 36,
      "metadata": {
        "execution": {
          "iopub.status.busy": "2020-02-28T13:36:59.654Z",
          "iopub.execute_input": "2020-02-28T13:36:59.664Z",
          "iopub.status.idle": "2020-02-28T13:36:59.687Z",
          "shell.execute_reply": "2020-02-28T13:36:59.697Z"
        }
      }
    },
    {
      "cell_type": "code",
      "source": [
        "g = matplotlib.pyplot.scatter( X[:,0], X[:,1], c = y )"
      ],
      "outputs": [
        {
          "output_type": "display_data",
          "data": {
            "text/plain": [
              "<Figure size 432x288 with 1 Axes>"
            ],
            "image/png": "[encoded data removed]"
          },
          "metadata": {
            "needs_background": "light"
          }
        }
      ],
      "execution_count": 51,
      "metadata": {
        "collapsed": false,
        "jupyter": {
          "source_hidden": false,
          "outputs_hidden": false
        },
        "nteract": {
          "transient": {
            "deleting": false
          }
        },
        "execution": {
          "iopub.status.busy": "2020-02-28T13:40:57.565Z",
          "iopub.execute_input": "2020-02-28T13:40:57.579Z",
          "iopub.status.idle": "2020-02-28T13:40:57.689Z",
          "shell.execute_reply": "2020-02-28T13:40:57.717Z"
        }
      }
    },
    {
      "cell_type": "code",
      "source": [
        "# A sample toy binary classification dataset\n",
        "svm = sklearn.svm.LinearSVC( random_state = 0 )\n",
        "\n",
        "def tp(y_true, y_pred):\n",
        "    return sklearn.metrics.confusion_matrix(y_true, y_pred)[0, 0]\n",
        "def tn(y_true, y_pred):\n",
        "    return sklearn.metrics.confusion_matrix(y_true, y_pred)[0, 0]\n",
        "def fp(y_true, y_pred):\n",
        "    return sklearn.metrics.confusion_matrix(y_true, y_pred)[1, 0]\n",
        "def fn(y_true, y_pred):\n",
        "    return sklearn.metrics.confusion_matrix(y_true, y_pred)[0, 1]\n",
        "\n",
        "scoring = {\n",
        "    'tp' : sklearn.metrics.make_scorer( tp ),\n",
        "    'tn' : sklearn.metrics.make_scorer( tn ),\n",
        "    'fp' : sklearn.metrics.make_scorer( fp ),\n",
        "    'fn' : sklearn.metrics.make_scorer( fn ),\n",
        "}\n",
        "\n",
        "cv_results = sklearn.model_selection.cross_validate(\n",
        "    svm,\n",
        "    X, y,\n",
        "    scoring = scoring,\n",
        "    cv = 3\n",
        ")\n",
        "\n",
        "# Getting the test set true positive scores\n",
        "print( cv_results['test_tp'] )\n",
        "print( cv_results['test_tn'] )\n",
        "print( cv_results['test_fp'] )\n",
        "print( cv_results['test_fn'] )"
      ],
      "outputs": [
        {
          "output_type": "stream",
          "name": "stdout",
          "text": [
            "[12 13 15]\n",
            "[12 13 15]\n",
            "[1 3 7]\n",
            "[5 4 1]\n"
          ]
        }
      ],
      "execution_count": 62,
      "metadata": {
        "execution": {
          "iopub.status.busy": "2020-02-28T13:45:12.161Z",
          "iopub.execute_input": "2020-02-28T13:45:12.171Z",
          "iopub.status.idle": "2020-02-28T13:45:12.199Z",
          "shell.execute_reply": "2020-02-28T13:45:12.213Z"
        }
      }
    },
    {
      "cell_type": "code",
      "source": [
        "cv_results = sklearn.model_selection.cross_validate(\n",
        "    svm,\n",
        "    X, y,\n",
        "    cv = 3,\n",
        "    scoring = sklearn.metrics.make_scorer( tp ),\n",
        "    return_train_score = True\n",
        ")\n",
        "cv_results"
      ],
      "outputs": [
        {
          "output_type": "execute_result",
          "execution_count": 63,
          "data": {
            "text/plain": [
              "{'fit_time': array([0.00184798, 0.00086808, 0.00096416]),\n",
              " 'score_time': array([0.00058293, 0.0004859 , 0.00040984]),\n",
              " 'test_score': array([12, 13, 15]),\n",
              " 'train_score': array([32, 33, 34])}"
            ]
          },
          "metadata": {}
        }
      ],
      "execution_count": 63,
      "metadata": {
        "execution": {
          "iopub.status.busy": "2020-02-28T13:45:13.745Z",
          "iopub.execute_input": "2020-02-28T13:45:13.755Z",
          "iopub.status.idle": "2020-02-28T13:45:13.776Z",
          "shell.execute_reply": "2020-02-28T13:45:13.785Z"
        }
      }
    },
    {
      "cell_type": "markdown",
      "source": [
        "## Бинарная классификация и метрики оценки точности бинарной классификации\n",
        "\n",
        "В случае бинарной классификации мы говорим о *положительном* (*positive*) классе и *отрицательном* (*negative*) классе, подразумевая под положительным классом интересующий нас класс.\n",
        "\n",
        "Правильность не является адекватным показателем прогностической способности (примеры с обнаружением рака, вычислением террористов и т.п.).\n",
        "Т.к. цена ошибки может быть очень разной."
      ],
      "metadata": {}
    },
    {
      "cell_type": "markdown",
      "source": [
        "### Типы ошибок бинарной классификации\n",
        "\n",
        "<img src=\"https://bitbucket.org/despairr/ds-course-2018/raw/dbbafa803be8b1f01cc078ba3ba96d176b220669/intro-to-ml-images/1062.png\" height=\"200\">\n",
        "\n",
        "Типы ответов:\n",
        "* *Ложно-положительный* (*false positive*) (*ложное срабатывание*, *ложная тревога*) (*ошибка I рода* (*type I error*)):\n",
        "  * ошибочно посчитали искомым объектом:\n",
        "  * тест на рак положительный у здорового больного;\n",
        "  * сработало подозрение на террориста для мирного гражданина\n",
        "  * письмо попало в СПАМ\n",
        "* *Ложно-отрицательный* (*false negative*) (*пропуск события*) (*ошибка II рода* (*type II error*)):\n",
        "  * ошибочно пропустили искомый объект;\n",
        "  * тест на рак отрицательный у больного человека;\n",
        "  * пропустили террориста, посчитав его мирным\n",
        "  * СПАМ попал во \"входящие\"\n",
        "  \n",
        "В коммерческих проектах обоим видам ошибок можно присвоить определенные стоимости, которые позволяют измерить погрешность конкретного прогноза в денежном выражении, а не с точки зрения правильности."
      ],
      "metadata": {}
    },
    {
      "cell_type": "markdown",
      "source": [
        "#### Несбалансированные наборы данных\n",
        "\n",
        "Пример (помимо предыдущих): прогноз кликов по баннерам на сайтах. Примеров когда пользователь кликнул может быть порядка 1%. \"Правильность\" 99% (константный прогноз отсутствия клика) тут совершенно не подходит для задачи.\n",
        "\n",
        "Пример несбалансированного набора данных: поиск \"девяток\" в датасете \"цифры\".\n",
        "Все девятки объявляем положительным классом, а \"не девятки\" — отрицательным.\n",
        "\n"
      ],
      "metadata": {}
    },
    {
      "cell_type": "code",
      "source": [
        "# Создаём набор данных \"угадай девятки\" — у нас только 10% девяток\n",
        "digits = sklearn.datasets.load_digits()\n",
        "y = digits.target == 9\n",
        "X_train, X_test, y_train, y_test = sklearn.model_selection.train_test_split(\n",
        "    digits.data, y, random_state = 0\n",
        ")\n",
        "y.shape, y[ y == True ].shape, y[ y == True ].shape[0] / y.shape[0]"
      ],
      "outputs": [
        {
          "output_type": "execute_result",
          "execution_count": 64,
          "data": {
            "text/plain": [
              "((1797,), (180,), 0.1001669449081803)"
            ]
          },
          "metadata": {}
        }
      ],
      "execution_count": 64,
      "metadata": {
        "inputHidden": false,
        "outputHidden": false,
        "execution": {
          "iopub.status.busy": "2020-02-28T13:47:22.277Z",
          "iopub.execute_input": "2020-02-28T13:47:22.288Z",
          "iopub.status.idle": "2020-02-28T13:47:22.340Z",
          "shell.execute_reply": "2020-02-28T13:47:22.350Z"
        }
      }
    },
    {
      "cell_type": "code",
      "source": [
        "# Классификатор \"наиболее частый класс\"\n",
        "import sklearn.dummy\n",
        "\n",
        "dummy_majority = sklearn.dummy.DummyClassifier( strategy = 'most_frequent' ).fit( X_train, y_train )\n",
        "\n",
        "pred_most_frequent = dummy_majority.predict( X_test )\n",
        "\n",
        "print(\"Уникальные спрогнозированные метки: {}\".format( np.unique(pred_most_frequent)) )\n",
        "print(\"Правильность на тестовом наборе: {:.2f}\".format( dummy_majority.score(X_test, y_test)) )"
      ],
      "outputs": [
        {
          "output_type": "stream",
          "name": "stdout",
          "text": [
            "Уникальные спрогнозированные метки: [False]\n",
            "Правильность на тестовом наборе: 0.90\n"
          ]
        }
      ],
      "execution_count": 66,
      "metadata": {
        "inputHidden": false,
        "outputHidden": false,
        "execution": {
          "iopub.status.busy": "2020-02-28T13:48:12.503Z",
          "iopub.execute_input": "2020-02-28T13:48:12.514Z",
          "iopub.status.idle": "2020-02-28T13:48:12.535Z",
          "shell.execute_reply": "2020-02-28T13:48:12.546Z"
        }
      }
    },
    {
      "cell_type": "code",
      "source": [
        "# Случайный (dummy) классификатор\n",
        "dummy = sklearn.dummy.DummyClassifier( strategy = 'stratified' ).fit( X_train, y_train )\n",
        "\n",
        "pred_dummy = dummy.predict( X_test )\n",
        "\n",
        "print(\"Правильность dummy: {:.2f}\".format( dummy.score(X_test, y_test)) )"
      ],
      "outputs": [
        {
          "output_type": "stream",
          "name": "stdout",
          "text": [
            "Правильность dummy: 0.83\n"
          ]
        }
      ],
      "execution_count": 73,
      "metadata": {
        "inputHidden": false,
        "outputHidden": false,
        "execution": {
          "iopub.status.busy": "2020-02-28T13:51:48.606Z",
          "iopub.execute_input": "2020-02-28T13:51:48.617Z",
          "iopub.status.idle": "2020-02-28T13:51:48.639Z",
          "shell.execute_reply": "2020-02-28T13:51:48.649Z"
        }
      }
    },
    {
      "cell_type": "code",
      "source": [
        "# Логистическая регрессия\n",
        "import sklearn.linear_model\n",
        "\n",
        "logreg = sklearn.linear_model.LogisticRegression(C=0.1, solver = 'liblinear').fit( X_train, y_train )\n",
        "\n",
        "pred_logreg = logreg.predict( X_test )\n",
        "\n",
        "print(\"правильность logreg: {:.2f}\".format(logreg.score(X_test, y_test)))"
      ],
      "outputs": [
        {
          "output_type": "stream",
          "name": "stdout",
          "text": [
            "правильность logreg: 0.98\n"
          ]
        }
      ],
      "execution_count": 79,
      "metadata": {
        "inputHidden": false,
        "outputHidden": false,
        "execution": {
          "iopub.status.busy": "2020-02-28T13:56:35.666Z",
          "iopub.execute_input": "2020-02-28T13:56:35.676Z",
          "iopub.status.idle": "2020-02-28T13:56:35.698Z",
          "shell.execute_reply": "2020-02-28T13:56:35.708Z"
        }
      }
    },
    {
      "cell_type": "markdown",
      "source": [
        "Вывод — \"правильность\" как единственная метрика не подходитдля оценки бинарного классификатора.\n",
        "\n",
        "Для несбалансированных наборов данных \"правильность\" также не является адекватной метрикой, позволяющей количественно оценить прогностическую способность модели.\n",
        "\n",
        "Объявив «девятку» положительным классом, мы можем рассмотреть элементы матрицы ошибок в терминах ложно положительных (false positive) и ложно отрицательных (false negative) примеров."
      ],
      "metadata": {}
    },
    {
      "cell_type": "markdown",
      "source": [
        "<img src=\"https://bitbucket.org/despairr/ds-course-2018/raw/dbbafa803be8b1f01cc078ba3ba96d176b220669/intro-to-ml-images/1062.png\" height=\"200\">\n",
        "\n",
        "Матрицы ответов модели \"Наиболее часто встречающийся класс\":\n",
        "```\n",
        "[ 403 0 ]\n",
        "[ 47 0 ]\n",
        " ```\n",
        "Матрицы ответов случайной (dummy) модели:\n",
        "```\n",
        "[361 42]\n",
        "[ 43 4]\n",
        "```\n",
        "\n",
        "Матрицы ответов модели логистической регрессии:\n",
        "```\n",
        "[401 2]\n",
        "[ 8 39]\n",
        "```\n",
        "\n",
        "Как вычислить *правильность* по такой матрице:\n",
        "\n",
        "$ Accuracy = \\frac{ TP + TN  }{ TP + TN + FP + FN} $\n",
        "\n",
        "Другими словами, правильность — это количество верно классифицированных примеров (TP и TN), поделенное на общее количество примеров"
      ],
      "metadata": {}
    },
    {
      "cell_type": "markdown",
      "source": [
        "#### Точность (precision)\n",
        "\n",
        "$ Precision = \\frac{ TP }{ TP + FP } $\n",
        "\n",
        "Точность показывает, насколько можно доверять классификатору в случае срабатывания.<br>\n",
        "То есть сколько из предсказанных положительных примеров оказались действительно положительными.\n",
        "\n",
        "Таким образом, точность – это доля истинно положительных примеров от общего количества предсказанных положительных примеров.\n",
        "\n",
        "Точность используется в качестве показателя качества модели, когда цель состоит в том, чтобы снизить количество ложно положительных примеров.\n",
        "\n",
        "Например модель, которая должна спрогнозировать, будет ли эффективен новый лекарственный препарат при лечении болезни. Клинические испытания дороги и провести их лишь в случае высокой уверенности, что препарат действительно работает.\n",
        "\n",
        "Или нам хочется уменьшить количество СПАМа в inbox-е.\n",
        "\n",
        "Точность также известна как *прогностическая ценность положительного результата* (*positive predictive value*, *PPV*).\n",
        "\n",
        "\n"
      ],
      "metadata": {}
    },
    {
      "cell_type": "markdown",
      "source": [
        "#### Полнота (recall)\n",
        "\n",
        "$ Recall = \\frac{ TP }{ TP + FN } $\n",
        "\n",
        "*Полнота* (*recall*) показывает, на какой доле истинных объектов алгоритм срабатывает.<br>\n",
        "Другие названия *полноты*: *чувствительность* (*sensitivity*), *процент\n",
        "результативный ответов* или *хит-рейт* (*hit rate*) или *доля истинно положительных ответов* (*true positive rate*, *TPR*).\n",
        "\n",
        "Например, сколько террористов было обнаружено из числа фактических террористов или обнаружено больних СПИДом среди фактически больных.\n",
        "\n",
        "Полнота используется в качестве показателя качества модели, когда нам необходимо определить все положительные примеры, то есть, когда важно снизить количество ложно отрицательных примеров.\n",
        "\n",
        "Нужно искать компромисс между оптимизацией полноты и оптимизацией точности. Можно получить идеальную полноту, спрогнозировав все примеры как положительные — не будет\n",
        "никаких ложно отрицательных и истинно отрицательных примеров.\n",
        "Однако прогнозирование всех примеров как положительных, приведет к\n",
        "большому количеству ложно положительных примеров, и, следовательно, точность будет очень низкой."
      ],
      "metadata": {}
    },
    {
      "cell_type": "markdown",
      "source": [
        "### Интегральные метрики на основе *точности* и *полноты*\n",
        "\n",
        "Хотя *точность* и *полнота* являются очень важными метриками, но сами по себе они не дадут вам полной картины.\n",
        "\n",
        "#### Арифметическое среднее\n",
        "\n",
        "Единая метрика может быть получена как арифметическое среднее точности и полноты:\n",
        "\n",
        "$ A = 1/2 \\cdot (precision + recall) $\n",
        "\n",
        "<img src=\"https://bitbucket.org/despairr/ds-course-2018/raw/443959e3b5e41168ceba4adcffbe1e9e9084f246/other-images/average-precision-recall.png\" style=\"height: 300px\">\n",
        "\n",
        "Пусть есть алгоритм, точность которого равна 10%, а полнота — 100%:\n",
        "precision = 0:1 recall = 1:\n",
        "Это может быть случай, когда в выборке всего 10% объектов класса +1, а алгоритм является константным\n",
        "и всегда возвращает +1. Очевидно, что этот алгоритм плохой, но введенная выше метрика для него равна\n",
        "A = 0:55.\n",
        "\n",
        "В свою очередь другой, гораздо более лучший алгоритм, с precision = 0:55 и recall = 55 также\n",
        "характеризуется A = 0:55.\n",
        "\n",
        "Ситуация, когда константный и разумный алгоритмы могут лежать на одной линии, является недопусти-\n",
        "мой, поэтому следует искать другой способ построения единой метрики.\n",
        "\n",
        "#### Минимум (P,R)\n",
        "\n",
        "Чтобы констрантный и разумный алгоритмы не лежали на одной линии уровня, можно рассматривать:\n",
        "\n",
        "$ M = min( precision, recall ) $\n",
        "\n",
        "<img src=\"https://bitbucket.org/despairr/ds-course-2018/raw/443959e3b5e41168ceba4adcffbe1e9e9084f246/other-images/min-precision-recall.png\" style=\"height: 300px\">\n",
        "\n",
        "Данный подход решает вышеупомянутую проблему, например:\n",
        "\n",
        "precision = 0.05; recall = 1 ⇒ M = 0.05<br>\n",
        "\n",
        "Но есть другой нюанс: два алгоритма, для которых точности одинаковы, но отличаются значения полноты,\n",
        "будут лежать на одной линии уровня M:\n",
        "\n",
        "precision = 0.4; recall = 0.5 ⇒ M = 0.4<br>\n",
        "precision = 0.4; recall = 0.9 ⇒ M = 0.4\n",
        "\n",
        "Такое тоже недопустимо, так как второй алгоритм существенно лучше первого.\n",
        "\n",
        "#### F-мера\n",
        "\n",
        "Одним из способов подытожить их является *F-мера* (*F-measure*), которая представляет собой\n",
        "гармоническое среднее точности и полноты:\n",
        "\n",
        "$ F = 2 \\cdot \\frac{ Accuracy \\cdot Racall }{ Accuracy + Racall } $\n",
        "\n",
        "Если необходимо отдать предпочтение точности или полноте, следует использовать расширенную F-меру, в которой есть параметр $ \\beta $:\n",
        "\n",
        "$ F = (1 + \\beta^2) \\cdot \\frac{ precision \\cdot recall }{ \\beta^2 \\cdot precision + recall } $\n",
        "\n",
        "![f-measure-samples](https://bitbucket.org/despairr/ds-course-2018/raw/c3f5df9d66d44fe424b4a4f0c0a0195f0ff9b0f7/other-images/f-measure-samples.png)\n",
        "\n",
        "*f-мера* действительно дает более лучшее представление о качестве модели, чем правильность. Однако, в отличие от *правильности*, ее труднее интерпретировать и объяснить."
      ],
      "metadata": {}
    },
    {
      "cell_type": "code",
      "source": [
        "import warnings\n",
        "warnings.filterwarnings('always')\n",
        "\n",
        "print(\"дамми:\")\n",
        "print(\" правильность: {:.2f}\".format( sklearn.metrics.accuracy_score(y_test, pred_dummy ) ))\n",
        "print(\" точность: {:.2f}\".format( sklearn.metrics.precision_score( y_test, pred_dummy )) )\n",
        "print(\" полнота: {:.2f}\".format( sklearn.metrics.recall_score( y_test, pred_dummy )) )\n",
        "print(\" f1-мера {:.2f}\".format( sklearn.metrics.f1_score( y_test, pred_dummy )) )\n",
        "print()\n",
        "print(\"LogisticRegression:\")\n",
        "print(\" правильность: {:.2f}\".format( sklearn.metrics.accuracy_score(y_test, pred_logreg ) ))\n",
        "print(\" точность: {:.2f}\".format( sklearn.metrics.precision_score(y_test, pred_logreg ) ))\n",
        "print(\" полнота: {:.2f}\".format( sklearn.metrics.recall_score(y_test, pred_logreg ) ))\n",
        "print(\" f1-мера {:.2f}\".format( sklearn.metrics.f1_score(y_test, pred_logreg ) ))\n"
      ],
      "outputs": [
        {
          "output_type": "stream",
          "name": "stdout",
          "text": [
            "дамми:\n",
            " правильность: 0.80\n",
            " точность: 0.04\n",
            " полнота: 0.04\n",
            " f1-мера 0.04\n",
            "\n",
            "LogisticRegression:\n",
            " правильность: 0.98\n",
            " точность: 0.95\n",
            " полнота: 0.83\n",
            " f1-мера 0.89\n"
          ]
        }
      ],
      "execution_count": 81,
      "metadata": {
        "inputHidden": false,
        "outputHidden": false,
        "execution": {
          "iopub.status.busy": "2020-02-28T13:56:57.727Z",
          "iopub.execute_input": "2020-02-28T13:56:57.738Z",
          "iopub.status.idle": "2020-02-28T13:56:57.763Z",
          "shell.execute_reply": "2020-02-28T13:56:57.774Z"
        }
      }
    },
    {
      "cell_type": "markdown",
      "source": [
        "Если мы хотим получить более развернутый отчет о точности, полноте и f1-мере, можно воспользоваться удобной функцией `classification_report`, чтобы вычислить все три метрики сразу и распечатать их в привлекательном виде:"
      ],
      "metadata": {}
    },
    {
      "cell_type": "code",
      "source": [
        "# classification_report для pred_dummy\n",
        "print( sklearn.metrics.classification_report(\n",
        "    y_test, pred_dummy, target_names=[\"not nine\", \"nine\"]\n",
        ") )"
      ],
      "outputs": [
        {
          "output_type": "stream",
          "name": "stdout",
          "text": [
            "              precision    recall  f1-score   support\n",
            "\n",
            "    not nine       0.89      0.89      0.89       403\n",
            "        nine       0.04      0.04      0.04        47\n",
            "\n",
            "   micro avg       0.80      0.80      0.80       450\n",
            "   macro avg       0.47      0.47      0.47       450\n",
            "weighted avg       0.80      0.80      0.80       450\n",
            "\n"
          ]
        }
      ],
      "execution_count": 83,
      "metadata": {
        "inputHidden": false,
        "outputHidden": false,
        "execution": {
          "iopub.status.busy": "2020-02-28T13:57:23.173Z",
          "iopub.execute_input": "2020-02-28T13:57:23.183Z",
          "iopub.status.idle": "2020-02-28T13:57:23.205Z",
          "shell.execute_reply": "2020-02-28T13:57:23.217Z"
        }
      }
    },
    {
      "cell_type": "code",
      "source": [
        "# classification_report для pred_logreg\n",
        "print( sklearn.metrics.classification_report(\n",
        "    y_test, pred_logreg, target_names=[\"not nine\", \"nine\"]\n",
        ") )"
      ],
      "outputs": [
        {
          "output_type": "stream",
          "name": "stdout",
          "text": [
            "              precision    recall  f1-score   support\n",
            "\n",
            "    not nine       0.98      1.00      0.99       403\n",
            "        nine       0.95      0.83      0.89        47\n",
            "\n",
            "   micro avg       0.98      0.98      0.98       450\n",
            "   macro avg       0.97      0.91      0.94       450\n",
            "weighted avg       0.98      0.98      0.98       450\n",
            "\n"
          ]
        }
      ],
      "execution_count": 84,
      "metadata": {
        "inputHidden": false,
        "outputHidden": false,
        "execution": {
          "iopub.status.busy": "2020-02-28T13:57:27.451Z",
          "iopub.execute_input": "2020-02-28T13:57:27.462Z",
          "iopub.status.idle": "2020-02-28T13:57:27.483Z",
          "shell.execute_reply": "2020-02-28T13:57:27.493Z"
        }
      }
    },
    {
      "cell_type": "markdown",
      "source": [
        "### Оценка принадлежности к классу, значения порога\n",
        "\n",
        "Многие алгоритмы бинарной классификации устроены следующим образом: сначала вычисляется некоторое вещественное число $ b(x) $, которое сравнивается с порогом $ t $.\n",
        "\n",
        "$ a(x) = [b(x) > t] $,\n",
        "\n",
        "где $ b(x) $ — оценка принадлежности \"положительному\" классу.\n",
        "\n",
        "Часто бывает необходимо оценить качество именно оценки принадлежности, а порог выбирается позже из соображений на точность или полноту.\n",
        "\n",
        "![threshold](https://cloudfront.romexsoft.com/wp-content/uploads/2017/07/Shema_forThreshold_RomexColours-1.jpg.webp)"
      ],
      "metadata": {}
    },
    {
      "cell_type": "markdown",
      "source": [
        "Пусть рассматривается задачного кредитного скоринга и была построена некоторая функция b(x), которая оценивает вероятность возврата кредита клиентом x. Далее классификатор строится следующим образом:\n",
        "\n",
        "$ a(x) = [b(x) > 0.5] $\n",
        "\n",
        "При этом получилось, что точность (precision) равна 10%, а полнота (recall) — 70%. Это очень плохой алгоритм, так как 90% клиентов, которым будет выдан кредит, не вернут его.\n",
        "При этом не понятно, в чем дело: был плохо выбран порог или алгоритм не подходит для решения данной задачи. Именно для этого необходимо измерять качество самих оценок b(x).\n",
        "\n",
        "![binary-threshold](https://docs.aws.amazon.com/machine-learning/latest/dg/images/mlconcepts_image2.png)"
      ],
      "metadata": {}
    },
    {
      "cell_type": "markdown",
      "source": [
        "### Кривая точности-полноты (PRC)\n",
        "\n",
        "*Precision-recall curce*\n",
        "\n",
        "![PRC-1](https://bitbucket.org/despairr/ds-course-2018/raw/c3f5df9d66d44fe424b4a4f0c0a0195f0ff9b0f7/intro-to-ml-images/1104.png)\n",
        "\n",
        "![PRC-2](https://bitbucket.org/despairr/ds-course-2018/raw/c3f5df9d66d44fe424b4a4f0c0a0195f0ff9b0f7/intro-to-ml-images/1105.png)\n",
        "\n",
        "В случае идеального классификатора, то есть если существует такой порог, что и точность, и полнота равны 100%, кривая будет проходить через точку (1; 1). Таким образом, чем ближе кривая пройдет к этой точке, тем лучше оценки. Площадь под этой кривой может быть хорошей мерой качества оценок принадлежности к классу 1. Такая метрика называется *AUC–PRC*, или площадь под PR-кривой.\n",
        "\n",
        "Требование, выдвигаемое к качеству модели (например, значение полноты должно быть 90%), часто называют  *рабочей точкой* (*operating point*). Фиксирование рабочей точки часто бывает полезно в контексте бизнеса, чтобы гарантировать определенный уровень качества клиентам или другим группам лиц внутри организации.\n",
        "\n",
        "Как правило, при разработке новой модели нет четкого представления о том, что будет рабочей точкой. По этой причине, а также для того, чтобы получить более полное представление о решаемой задаче, полезно сразу взглянуть на все возможные пороговые значения или все возможные соотношения точности и полноты для этих пороговых значений."
      ],
      "metadata": {}
    },
    {
      "cell_type": "markdown",
      "source": [
        "### ROC-кривая\n",
        "\n",
        "Еще один инструмент, который обычно используется для анализа поведения классификаторов при различных пороговых значениях – это кривая *рабочей характеристики приемника* (*receiver operating characteristics curve*) или кратко *ROC-кривая* (*ROC curve*). Как и *кривая точности-полноты*, *ROC-кривая* позволяет рассмотреть все пороговые значения для данного классификатора, но вместо точности и полноты она показывает *долю ложно положительных примеров* (*false positive rate*, *FPR*) в сравнении с *долей истинно положительных примеров* (*true positive rate*).\n",
        "\n",
        "$ TPR = \\frac{ TP }{ TP + FN } $\n",
        "\n",
        "$ FPR = \\frac{ FP }{ FP + TN } $\n",
        "\n",
        "*Доля истинно положительных примеров* – это просто еще одно название *полноты*, тогда как *доля ложно положительных примеров* – это доля ложно положительных примеров от\n",
        "общего количества отрицательных примеров.\n",
        "\n",
        "ROC-кривая строится строится в осях\n",
        "* False Positive Rate* (ось X) и *True Positive Rate* (ось Y ), аналогично PR-кривой: постепенно рассматриваются случаи различных значений порогов и отмечаются точки на графике.\n",
        "\n",
        "![ROC-1](https://bitbucket.org/despairr/ds-course-2018/raw/c3f5df9d66d44fe424b4a4f0c0a0195f0ff9b0f7/intro-to-ml-images/1112.png)\n",
        "\n",
        "![ROC-1](https://bitbucket.org/despairr/ds-course-2018/raw/c3f5df9d66d44fe424b4a4f0c0a0195f0ff9b0f7/intro-to-ml-images/1113.png)\n",
        "\n",
        "Кривая стартует с точки (0; 0) и приходит в точку (1; 1). При этом, если существует идеальный классификатор, кривая должна пройти через точку (0; 1). Чем ближе кривая к этой точке, тем лучше будут оценки, а площадь под кривой будет характеризовать качество оценок принадлежности к первому классу. Такая метрика называется *AUC–ROC*,или площадь под ROC-кривой.\n",
        "\n",
        "В случае идеального алгоритма AUC-ROC = 1, а в случае худшего AUC - ROC = 1/2.\n",
        "Значение AUC-ROC имеет смысл вероятности того, что если были выбраны случайный положительный и\n",
        "случайный отрицаельный объекты выборки, положительный объект получит оценку принадлежности выше,\n",
        "чем отрицательный объект."
      ],
      "metadata": {}
    },
    {
      "cell_type": "code",
      "source": [],
      "outputs": [],
      "execution_count": null,
      "metadata": {}
    },
    {
      "cell_type": "code",
      "source": [],
      "outputs": [],
      "execution_count": null,
      "metadata": {
        "inputHidden": false,
        "outputHidden": false
      }
    }
  ],
  "metadata": {
    "kernel_info": {
      "name": "python3"
    },
    "kernelspec": {
      "name": "python3",
      "language": "python",
      "display_name": "Python 3"
    },
    "language_info": {
      "name": "python",
      "version": "3.7.2",
      "mimetype": "text/x-python",
      "codemirror_mode": {
        "name": "ipython",
        "version": 3
      },
      "pygments_lexer": "ipython3",
      "nbconvert_exporter": "python",
      "file_extension": ".py"
    },
    "nteract": {
      "version": "0.22.0"
    }
  },
  "nbformat": 4,
  "nbformat_minor": 4
}